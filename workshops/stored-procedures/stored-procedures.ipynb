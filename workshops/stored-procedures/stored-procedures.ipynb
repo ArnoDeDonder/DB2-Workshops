{
    "metadata": {
        "kernelspec": {
            "name": "SQL",
            "display_name": "SQL",
            "language": "sql"
        },
        "language_info": {
            "name": "sql",
            "version": ""
        }
    },
    "nbformat_minor": 2,
    "nbformat": 4,
    "cells": [
        {
            "cell_type": "markdown",
            "source": [
                "# Stored Procedures\r\n",
                "## Case\r\n",
                "For our business we'd like to see which products are out of stock. So we can make sure to order some extra in the next delivery run. \r\n",
                ""
            ],
            "metadata": {
                "azdata_cell_guid": "5c28de6e-3e9e-470a-8738-df80c15231f4"
            }
        },
        {
            "cell_type": "markdown",
            "source": [
                "## How does the data look like?\r\n",
                "First of all we need to know what the rows in the tables `Product` and `Supplier` contain."
            ],
            "metadata": {
                "azdata_cell_guid": "910ca28f-cb57-48bb-b1a1-3b30aef64619"
            }
        },
        {
            "cell_type": "code",
            "source": [
                "-- Product Table Example\r\n",
                "SELECT TOP 3 * FROM Product\r\n",
                "-- Supplier Table Example\r\n",
                "SELECT TOP 3 * FROM Supplier"
            ],
            "metadata": {
                "azdata_cell_guid": "cdf3b790-2b55-4620-a466-a344bbd75263"
            },
            "outputs": [],
            "execution_count": 2
        },
        {
            "cell_type": "markdown",
            "source": [
                "The query that could tackle this problem is the one below."
            ],
            "metadata": {
                "azdata_cell_guid": "b419a953-3de1-4e20-bd7b-bdb3964a2cb6"
            }
        },
        {
            "cell_type": "code",
            "source": [
                "SELECT\r\n",
                "    ProductID as ID,\r\n",
                "    ProductName as Name,\r\n",
                "    UnitsInStock as Stock\r\n",
                "FROM Product\r\n",
                "WHERE UnitsInStock < 250"
            ],
            "metadata": {
                "azdata_cell_guid": "62ce3e63-2b1d-44d1-9d22-0aa92d8cc5e7"
            },
            "outputs": [],
            "execution_count": 3
        },
        {
            "cell_type": "markdown",
            "source": [
                "Since this is logic we'd like to reuse we can use a stored procedure, a reusable piece of code.\r\n",
                "> Do note that a function for this case is also possible, but what is the difference between a function and a stored procedure?"
            ],
            "metadata": {
                "azdata_cell_guid": "0206d6ad-0e7f-48b0-84ba-ef88cc878937"
            }
        },
        {
            "cell_type": "markdown",
            "source": [
                "## Create the stored procedure\r\n",
                "### Syntax\r\n",
                "```sql\r\n",
                "CREATE PROCEDURE <proc_name> [parameter declaration] \r\n",
                "AS\r\n",
                "<sql_statements> \r\n",
                "```\r\n",
                ""
            ],
            "metadata": {
                "azdata_cell_guid": "13cb4ba0-c58d-4c90-85aa-b9c2afac5c41"
            }
        },
        {
            "cell_type": "code",
            "source": [
                "CREATE PROCEDURE GetProductsOutOfStock\r\n",
                "AS\r\n",
                "SELECT\r\n",
                "    ProductID as ID,\r\n",
                "    ProductName as Name,\r\n",
                "    UnitsInStock as Stock\r\n",
                "FROM Product\r\n",
                "WHERE UnitsInStock < 250"
            ],
            "metadata": {
                "azdata_cell_guid": "5f1c7cbb-7005-4114-9cf3-a267dde0b19b"
            },
            "outputs": [],
            "execution_count": 46
        },
        {
            "cell_type": "markdown",
            "source": [
                "## Execute the procedure"
            ],
            "metadata": {
                "azdata_cell_guid": "7599964c-51cf-49db-b487-ca9a871ac324"
            }
        },
        {
            "cell_type": "code",
            "source": [
                "EXECUTE GetProductsOutOfStock\r\n",
                "-- EXEC is an alias for EXECUTE"
            ],
            "metadata": {
                "azdata_cell_guid": "b3904482-ed5b-4221-8c72-7012e07e14d5"
            },
            "outputs": [],
            "execution_count": 48
        },
        {
            "cell_type": "markdown",
            "source": [
                "## Delete a stored procedure\r\n",
                ""
            ],
            "metadata": {
                "azdata_cell_guid": "8bce1784-df0b-4d6f-993f-ba25f9cc35f8"
            }
        },
        {
            "cell_type": "code",
            "source": [
                "DROP PROCEDURE GetProductsOutOfStock  "
            ],
            "metadata": {
                "azdata_cell_guid": "e9e83ea8-f988-4dfd-a986-58dc8979b811"
            },
            "outputs": [],
            "execution_count": 44
        },
        {
            "cell_type": "markdown",
            "source": [
                "## Change a stored procedure\r\n",
                "We only want to see which products are out of stock if the `UnitsInStock` is less than `100` instead of `250`"
            ],
            "metadata": {
                "azdata_cell_guid": "7fe95fd2-38cb-428e-8732-b5fe577f9bc9"
            }
        },
        {
            "cell_type": "code",
            "source": [
                "ALTER PROCEDURE GetProductsOutOfStock\r\n",
                "AS\r\n",
                "SELECT\r\n",
                "    ProductID as ID,\r\n",
                "    ProductName as Name,\r\n",
                "    UnitsInStock as Stock\r\n",
                "FROM Product\r\n",
                "WHERE UnitsInStock < 100"
            ],
            "metadata": {
                "azdata_cell_guid": "e558aa34-8f41-4f61-b3a7-08ecc9917351"
            },
            "outputs": [],
            "execution_count": 47
        },
        {
            "cell_type": "markdown",
            "source": [
                "## Using input parameters\r\n",
                "Since we only want to see products of a certain supplier, we'll add an `input` parameter"
            ],
            "metadata": {
                "azdata_cell_guid": "effeb883-b971-4659-a3cf-65ff4376849e"
            }
        },
        {
            "cell_type": "code",
            "source": [
                "ALTER PROCEDURE GetProductsOutOfStock \r\n",
                "    @supplierId INT\r\n",
                "AS\r\n",
                "SELECT\r\n",
                "    ProductID as ID,\r\n",
                "    ProductName as Name,\r\n",
                "    UnitsInStock as Stock\r\n",
                "FROM Product\r\n",
                "WHERE   UnitsInStock < 100\r\n",
                "AND     SupplierId = @supplierId"
            ],
            "metadata": {
                "azdata_cell_guid": "7d60aee4-4d27-4d0b-a1d6-9ac6b01552fa"
            },
            "outputs": [],
            "execution_count": 49
        },
        {
            "cell_type": "markdown",
            "source": [
                "## Execute the procedure with an input variable\r\n",
                ""
            ],
            "metadata": {
                "azdata_cell_guid": "f1be6765-7211-45cf-a9c6-cbbb2c6a70c5"
            }
        },
        {
            "cell_type": "code",
            "source": [
                "EXECUTE GetProductsOutOfStock 2"
            ],
            "metadata": {
                "azdata_cell_guid": "c1d0b74d-cb4a-4de3-b151-d7a44adc1875"
            },
            "outputs": [],
            "execution_count": 50
        },
        {
            "cell_type": "markdown",
            "source": [
                "## Using output parameters\r\n",
                "Since we also want to see the name of the supplier, we'll add an `output` parameter, `supplierName`"
            ],
            "metadata": {
                "azdata_cell_guid": "3161c73c-2746-457e-a167-0170caca068a"
            }
        },
        {
            "cell_type": "code",
            "source": [
                "ALTER PROCEDURE GetProductsOutOfStock \r\n",
                "    @supplierId INT,\r\n",
                "    @supplierName NVARCHAR(MAX) OUTPUT\r\n",
                "AS\r\n",
                "SELECT\r\n",
                "    ProductID as ID,\r\n",
                "    ProductName as Name,\r\n",
                "    UnitsInStock as Stock\r\n",
                "FROM Product\r\n",
                "WHERE   UnitsInStock < 100\r\n",
                "AND     SupplierId = @supplierId\r\n",
                "\r\n",
                "SELECT @supplierName = SupplierName\r\n",
                "FROM Supplier\r\n",
                "WHERE SupplierId = @supplierId\r\n",
                ""
            ],
            "metadata": {
                "azdata_cell_guid": "ebd0fbf4-6ea3-4ed5-bf3c-f7cf48100e15"
            },
            "outputs": [],
            "execution_count": 51
        },
        {
            "cell_type": "markdown",
            "source": [
                "## Execute the procedure with an input and output variable\r\n",
                "\r\n",
                "\r\n",
                ""
            ],
            "metadata": {
                "azdata_cell_guid": "c9fe613c-c9ec-419f-8b66-24954f1f892e"
            }
        },
        {
            "cell_type": "code",
            "source": [
                "DECLARE @supplierName NVARCHAR(max)\r\n",
                "EXECUTE GetProductsOutOfStock 2, @supplierName OUTPUT\r\n",
                "PRINT 'Products out of stock for supplier:' + @supplierName"
            ],
            "metadata": {
                "azdata_cell_guid": "26c23ad9-dff7-4cce-8c70-66f8f2c91399",
                "tags": []
            },
            "outputs": [],
            "execution_count": 52
        },
        {
            "cell_type": "markdown",
            "source": [
                "## Case - Deleting customers \n",
                ""
            ],
            "metadata": {
                "azdata_cell_guid": "66fb9fea-cb3f-4f91-8ecc-2670afb4a82b"
            }
        },
        {
            "cell_type": "code",
            "source": [
                "create procedure DeleteCustomer\r\n",
                "    @custno int = NULL\r\n",
                "as\r\n",
                "\r\n",
                "if @custno IS NULL\r\n",
                "begin\r\n",
                "    print 'Please provide a customerid'\r\n",
                "    return\r\n",
                "End\r\n",
                "\r\n",
                "if not exists (select NULL\r\n",
                "from customer\r\n",
                "where customerid = @custno)\r\n",
                "begin\r\n",
                "    print 'The customer doesn''t exist.'\r\n",
                "    return\r\n",
                "End\r\n",
                "\r\n",
                "if exists (select NULL\r\n",
                "from orders\r\n",
                "where customerid = @custno)\r\n",
                "begin\r\n",
                "    print 'The customer already has orders and can''t be deleted.'\r\n",
                "    return\r\n",
                "End\r\n",
                "\r\n",
                "delete from customer where customerid = @custno\r\n",
                "print 'The customer has been succesfully deleted'\r\n",
                ""
            ],
            "metadata": {
                "azdata_cell_guid": "310e2809-e50b-4a17-a377-ee57c6578ad3"
            },
            "outputs": [],
            "execution_count": null
        },
        {
            "cell_type": "markdown",
            "source": [
                "# Functions\r\n",
                "Are basically the same as a `stored procedure` and `view` but there are some (subtle) differences:\r\n",
                "- A function **cannot** mutate data or database objects, it can only retrieve data or make calculations based on data.\r\n",
                "> By using a `Function` you're implicitly saying you're not mutating the database nor it's data it contains. \r\n",
                "- A `view` **cannot** accept input parameters, a `function` can."
            ],
            "metadata": {
                "azdata_cell_guid": "7406ea2c-a4f4-4e13-a4d2-610b36f04ee0"
            }
        },
        {
            "cell_type": "markdown",
            "source": [
                "## Case\r\n",
                "For our business we'd like to see which products are out of stock. So we can make sure to order some extra in the next delivery run, we want to specify the minimum amount of stock and a given supplier. "
            ],
            "metadata": {
                "azdata_cell_guid": "f1866de4-02d7-4fbd-b6b5-d45e5a12dc40"
            }
        },
        {
            "cell_type": "markdown",
            "source": [
                "## Table Valued Function\r\n",
                "A table-valued function is a user-defined function that returns data of a table type. The return type of a table-valued function is a table, therefore, you can use the table-valued function just like you would use a table."
            ],
            "metadata": {
                "azdata_cell_guid": "22711157-90f6-4acb-9bcb-ec7353d444bc"
            }
        },
        {
            "cell_type": "code",
            "source": [
                "CREATE FUNCTION udf_GetProductsOutOfStockForSupplier(@minStock INT, @supplierId INT) RETURNS TABLE AS\r\n",
                "RETURN \r\n",
                "SELECT\r\n",
                "    ProductID as ID,\r\n",
                "    ProductName as Name,\r\n",
                "    UnitsInStock as Stock\r\n",
                "FROM Product\r\n",
                "WHERE   UnitsInStock < @minStock\r\n",
                "    AND SupplierId = @supplierId"
            ],
            "metadata": {
                "azdata_cell_guid": "ad9ef1f9-111f-4d4b-95d8-f3327ee88eec",
                "tags": []
            },
            "outputs": [],
            "execution_count": 2
        },
        {
            "cell_type": "markdown",
            "source": [
                "## Executing a Table Valued Function\r\n",
                "Notice that this is not possible with a SQL View."
            ],
            "metadata": {
                "azdata_cell_guid": "b48ab69e-7a74-46fc-b24d-9496aad4a0d7"
            }
        },
        {
            "cell_type": "code",
            "source": [
                "SELECT *\r\n",
                "FROM udf_GetProductsOutOfStockForSupplier(45,7)"
            ],
            "metadata": {
                "azdata_cell_guid": "18d9c3ef-fa0f-481f-a341-27b240245132"
            },
            "outputs": [],
            "execution_count": 8
        }
    ]
}